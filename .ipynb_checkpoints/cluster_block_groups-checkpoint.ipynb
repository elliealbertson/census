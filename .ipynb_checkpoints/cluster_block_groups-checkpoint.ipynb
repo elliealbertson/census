{
 "cells": [
  {
   "cell_type": "markdown",
   "id": "b958290f",
   "metadata": {},
   "source": [
    "# Cluster Census Block Groups"
   ]
  },
  {
   "cell_type": "markdown",
   "id": "5aaafe31",
   "metadata": {},
   "source": [
    "This notebook shows how use unsupervised machine learning to cluster block groups in California using American Community Survey 2017-2021 5-year data."
   ]
  },
  {
   "cell_type": "code",
   "execution_count": null,
   "id": "fbb96799",
   "metadata": {},
   "outputs": [],
   "source": [
    "import pandas as pd\n",
    "import numpy as np\n",
    "from sklearn.preprocessing import MinMaxScaler\n",
    "from sklearn.decomposition import PCA\n",
    "from sklearn.impute import SimpleImputer\n",
    "from sklearn.preprocessing import StandardScaler\n",
    "from sklearn.cluster import KMeans\n",
    "import matplotlib.pyplot as plt\n",
    "%matplotlib inline"
   ]
  },
  {
   "cell_type": "code",
   "execution_count": null,
   "id": "14687b15",
   "metadata": {},
   "outputs": [],
   "source": [
    "pd.set_option('display.max_columns', None)"
   ]
  },
  {
   "cell_type": "code",
   "execution_count": null,
   "id": "2b9c3914",
   "metadata": {},
   "outputs": [],
   "source": [
    "census_data = pd.read_csv('census_data.csv')\n",
    "census_data.head(3)"
   ]
  },
  {
   "cell_type": "markdown",
   "id": "f13b0e6c",
   "metadata": {},
   "source": [
    "## Define Features"
   ]
  },
  {
   "cell_type": "code",
   "execution_count": null,
   "id": "2655ba59",
   "metadata": {},
   "outputs": [],
   "source": [
    "features = [\n",
    "    'B01002_001E_Estimate_Median_age_--_Total',\n",
    "    'B01001_026E_Estimate_Total_Female_P',\n",
    "    'B03002_003E_Estimate_Total_Not_Hispanic_or_Latino_White_alone_P',\n",
    "    'B03002_004E_Estimate_Total_Not_Hispanic_or_Latino_Black_or_African_American_alone_P',\n",
    "    'B03002_006E_Estimate_Total_Not_Hispanic_or_Latino_Asian_alone_P',\n",
    "    'B03002_012E_Estimate_Total_Hispanic_or_Latino_P',\n",
    "    'B99162_002E_Estimate_Total_Speak_only_English_P',\n",
    "    'C17002_002E_Estimate_Total_Under_.50_P',\n",
    "    'B19013_001E_Estimate_Median_household_income_in_the_past_12_months_(in_2021_inflation-adjusted_dollars)',\n",
    "    'B25003_003E_Estimate_Total_Renter_occupied_P',\n",
    "]"
   ]
  },
  {
   "cell_type": "markdown",
   "id": "53ca2e64",
   "metadata": {},
   "source": [
    "## Explore the Data"
   ]
  },
  {
   "cell_type": "code",
   "execution_count": null,
   "id": "2e7868b1",
   "metadata": {},
   "outputs": [],
   "source": [
    "census_data[features].describe().apply(lambda s: s.apply('{0:.2f}'.format))"
   ]
  },
  {
   "cell_type": "code",
   "execution_count": null,
   "id": "1378dd7a",
   "metadata": {},
   "outputs": [],
   "source": [
    "census_data[census_data['B01002_001E_Estimate_Median_age_--_Total'] == -666666666]['B01002_001E_Estimate_Median_age_--_Total'].value_counts()"
   ]
  },
  {
   "cell_type": "code",
   "execution_count": null,
   "id": "507c4e44",
   "metadata": {},
   "outputs": [],
   "source": [
    "census_data[census_data['B19013_001E_Estimate_Median_household_income_in_the_past_12_months_(in_2021_inflation-adjusted_dollars)'] == -666666666]['B19013_001E_Estimate_Median_household_income_in_the_past_12_months_(in_2021_inflation-adjusted_dollars)'].value_counts()"
   ]
  },
  {
   "cell_type": "code",
   "execution_count": null,
   "id": "b451eddf",
   "metadata": {},
   "outputs": [],
   "source": [
    "census_data[features].isna().sum()"
   ]
  },
  {
   "cell_type": "markdown",
   "id": "bd1d6b1b",
   "metadata": {},
   "source": [
    "Median income and median age both have missing values indicated by the value '-666666666'. Additionally, the other features have null values constituting a small percent of the data. We set the missing values of income and age to null so that they are handled appropriately when we impute missing values later."
   ]
  },
  {
   "cell_type": "code",
   "execution_count": null,
   "id": "f7c52626",
   "metadata": {},
   "outputs": [],
   "source": [
    "census_data_cleaned = census_data.copy()\n",
    "for i in features:\n",
    "    census_data_cleaned.loc[census_data_cleaned[i] == -666666666, i] = np.nan"
   ]
  },
  {
   "cell_type": "markdown",
   "id": "4c30f61a",
   "metadata": {},
   "source": [
    "To get a sense of how many clusters might be in the data, we will use principal component analysis (PCA) to summarize the data in two dimensions. We will use a random subset of the rows with complete data for this data visualization. First, we will normalize the features to be on the same scale. Then, we will use PCA to reduce the data to two principal components, and visualize the two components in a scatterplot."
   ]
  },
  {
   "cell_type": "code",
   "execution_count": null,
   "id": "14937435",
   "metadata": {},
   "outputs": [],
   "source": [
    "census_data_pca = census_data_cleaned.dropna(axis=0)\n",
    "census_data_pca = census_data_pca.sample(n=1000, random_state=1)"
   ]
  },
  {
   "cell_type": "code",
   "execution_count": null,
   "id": "13a5d9eb",
   "metadata": {},
   "outputs": [],
   "source": [
    "scaled_features = MinMaxScaler().fit_transform(census_data_pca[features])"
   ]
  },
  {
   "cell_type": "code",
   "execution_count": null,
   "id": "782061cf",
   "metadata": {},
   "outputs": [],
   "source": [
    "pca = PCA(n_components=2).fit(scaled_features)\n",
    "features_2d = pca.transform(scaled_features)"
   ]
  },
  {
   "cell_type": "code",
   "execution_count": null,
   "id": "f3fe24e5",
   "metadata": {},
   "outputs": [],
   "source": [
    "plt.scatter(features_2d[:,0],features_2d[:,1])\n",
    "plt.xlabel('Dimension 1')\n",
    "plt.ylabel('Dimension 2')\n",
    "plt.title('Data')\n",
    "plt.show()"
   ]
  },
  {
   "cell_type": "markdown",
   "id": "537f22cd",
   "metadata": {},
   "source": [
    "There are potentially multiple clusters in the data, but it is difficult to tell based on visual inspection alone. Cluster analysis will help identify any potential clusters."
   ]
  },
  {
   "cell_type": "markdown",
   "id": "cf345f07",
   "metadata": {},
   "source": [
    "## Preprocess the Data"
   ]
  },
  {
   "cell_type": "markdown",
   "id": "b71b38fb",
   "metadata": {},
   "source": [
    "We will fill missing data with the median value. To prevent features with larger scales (such as median household income) from biasing the cluster results, we will normalize the data to a similar scale."
   ]
  },
  {
   "cell_type": "code",
   "execution_count": null,
   "id": "7d6f512a",
   "metadata": {},
   "outputs": [],
   "source": [
    "imputer = SimpleImputer(strategy='median')\n",
    "X_imputed = imputer.fit_transform(census_data_cleaned[features])"
   ]
  },
  {
   "cell_type": "code",
   "execution_count": null,
   "id": "97fa8068",
   "metadata": {},
   "outputs": [],
   "source": [
    "scaler = StandardScaler()\n",
    "X_imputed_scaled = scaler.fit_transform(X_imputed)"
   ]
  },
  {
   "cell_type": "markdown",
   "id": "e4e65599",
   "metadata": {},
   "source": [
    "## Run a Clustering Algorithm"
   ]
  },
  {
   "cell_type": "markdown",
   "id": "151bd137",
   "metadata": {},
   "source": [
    "Run models with 1 to 10 clusters, and visualize the within cluster sum of squares (WCSS) to identify the optimal number of clusters. We will use K-means."
   ]
  },
  {
   "cell_type": "code",
   "execution_count": null,
   "id": "babb729c",
   "metadata": {},
   "outputs": [],
   "source": [
    "wcss = []\n",
    "for i in range(1, 11):\n",
    "    kmeans = KMeans(n_clusters = i)\n",
    "    kmeans.fit(X_imputed_scaled)\n",
    "    wcss.append(kmeans.inertia_)\n",
    "    \n",
    "plt.plot(range(1, 11), wcss)\n",
    "plt.title('WCSS by Clusters')\n",
    "plt.xlabel('Number of clusters')\n",
    "plt.ylabel('WCSS')\n",
    "plt.show()"
   ]
  },
  {
   "cell_type": "markdown",
   "id": "01b20a75",
   "metadata": {},
   "source": [
    "It looks like there is an \"elbow\" inflection point around 2 or 3 clusters. We will proceed with 3 clusters."
   ]
  },
  {
   "cell_type": "code",
   "execution_count": null,
   "id": "0848c943",
   "metadata": {},
   "outputs": [],
   "source": [
    "model = KMeans(n_clusters=3, init='k-means++', n_init=100, max_iter=1000)\n",
    "km_clusters = model.fit_predict(X_imputed_scaled)\n",
    "pd.DataFrame(km_clusters).value_counts()"
   ]
  },
  {
   "cell_type": "markdown",
   "id": "25cd7a0e",
   "metadata": {},
   "source": [
    "## Describe the Clusters"
   ]
  },
  {
   "cell_type": "markdown",
   "id": "7a77cae4",
   "metadata": {},
   "source": [
    "Now we will visualize the features by cluster. This will help with describing the characteristics of each cluster."
   ]
  },
  {
   "cell_type": "code",
   "execution_count": null,
   "id": "97a7df9f",
   "metadata": {},
   "outputs": [],
   "source": [
    "census_data_clustered = pd.concat([pd.DataFrame(X_imputed), pd.DataFrame(km_clusters)],axis=1)\n",
    "census_data_clustered.columns = features + ['Cluster']"
   ]
  },
  {
   "cell_type": "code",
   "execution_count": null,
   "id": "e79abadf",
   "metadata": {},
   "outputs": [],
   "source": [
    "for i in features:\n",
    "    means = census_data_clustered.groupby('Cluster')[i].mean()\n",
    "    ax = means.plot(kind='bar', figsize=(3,2), color = 'lightgray')\n",
    "    plt.xlabel('Cluster')\n",
    "    plt.ylabel(f'Mean')\n",
    "    plt.title(i)\n",
    "    for i, v in enumerate(means):\n",
    "        ax.text(i, v*.9, f\"{v:.2f}\", ha='center')\n",
    "    plt.show()"
   ]
  },
  {
   "cell_type": "markdown",
   "id": "25aa8db1",
   "metadata": {},
   "source": [
    "- Cluster 0 has the highest average age, percent White, and percent speaking only English; and the lowest average percent renter-occupied housing units.\n",
    "\n",
    "\n",
    "- Cluster 1 has the highest average percent Black, percent Hispanic, percent below 50% of poverty, and percent renter-occupied housing units; and the lowest average age, percent White, percent speaking only English, and median household income. \n",
    "\n",
    "\n",
    "- Cluster 2 has the highest average percent Asian, and median household income; and relatively low average percent White, percent Black, percent Hispanic, and percent speaking only English."
   ]
  },
  {
   "cell_type": "markdown",
   "id": "3076663a",
   "metadata": {},
   "source": [
    "## Export the Data"
   ]
  },
  {
   "cell_type": "markdown",
   "id": "0d439b7e",
   "metadata": {},
   "source": [
    "Save the clusters for use in other analyses."
   ]
  },
  {
   "cell_type": "code",
   "execution_count": null,
   "id": "f1f5603c",
   "metadata": {},
   "outputs": [],
   "source": [
    "census_data_clustered_id = pd.concat([census_data_cleaned['GEO_ID_Geography'], census_data_clustered], axis = 1)"
   ]
  },
  {
   "cell_type": "code",
   "execution_count": null,
   "id": "5be7774d",
   "metadata": {},
   "outputs": [],
   "source": [
    "census_data_clustered_id.to_csv('census_data_clustered.csv', index=False)"
   ]
  },
  {
   "cell_type": "markdown",
   "id": "23f99d8b",
   "metadata": {},
   "source": [
    "## Useful Resources"
   ]
  },
  {
   "cell_type": "markdown",
   "id": "0bf14ad6",
   "metadata": {},
   "source": [
    "https://learn.microsoft.com/en-us/training/modules/train-evaluate-cluster-models/3-exercise-model\n",
    "\n",
    "https://learn.microsoft.com/en-us/training/modules/train-evaluate-cluster-models/5-exercise-new-models"
   ]
  }
 ],
 "metadata": {
  "kernelspec": {
   "display_name": "Python 3 (ipykernel)",
   "language": "python",
   "name": "python3"
  },
  "language_info": {
   "codemirror_mode": {
    "name": "ipython",
    "version": 3
   },
   "file_extension": ".py",
   "mimetype": "text/x-python",
   "name": "python",
   "nbconvert_exporter": "python",
   "pygments_lexer": "ipython3",
   "version": "3.9.13"
  }
 },
 "nbformat": 4,
 "nbformat_minor": 5
}
