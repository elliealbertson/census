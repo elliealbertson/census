{
 "cells": [
  {
   "cell_type": "markdown",
   "id": "600ef630",
   "metadata": {},
   "source": [
    "# Getting Data from the U.S. Census Bureau API"
   ]
  },
  {
   "cell_type": "markdown",
   "id": "3f6afa88",
   "metadata": {},
   "source": [
    "This notebook shows how to construct a block group-level dataset using publicly available American Community Survey 5-year data."
   ]
  },
  {
   "cell_type": "code",
   "execution_count": null,
   "id": "8f4f1762",
   "metadata": {},
   "outputs": [],
   "source": [
    "import requests\n",
    "import pandas as pd"
   ]
  },
  {
   "cell_type": "code",
   "execution_count": null,
   "id": "b8a87707",
   "metadata": {},
   "outputs": [],
   "source": [
    "pd.set_option('display.max_columns', None)"
   ]
  },
  {
   "cell_type": "code",
   "execution_count": null,
   "id": "40277ee8",
   "metadata": {},
   "outputs": [],
   "source": [
    "def get_census_data(year, dataset, variables, location):\n",
    "    host = 'https://api.census.gov/data'\n",
    "    year = f'/{year}'\n",
    "    dataset = f'/{dataset}'\n",
    "    get = '?get='\n",
    "    variables = f'{variables}'\n",
    "    location = f'&for={location}'\n",
    "    url = f'{host}{year}{dataset}{get}{variables}{location}'\n",
    "    response = requests.get(url)\n",
    "    return response"
   ]
  },
  {
   "cell_type": "code",
   "execution_count": null,
   "id": "1c13b4f9",
   "metadata": {},
   "outputs": [],
   "source": [
    "def json_to_dataframe(response):\n",
    "    df = pd.DataFrame(response.json()[1:], columns=response.json()[0])\n",
    "    return df"
   ]
  },
  {
   "cell_type": "code",
   "execution_count": null,
   "id": "a670b17c",
   "metadata": {},
   "outputs": [],
   "source": [
    "def get_data_dictionary(year, dataset):\n",
    "    url = f'https://api.census.gov/data/{year}/{dataset}/variables.html'\n",
    "    df = pd.read_html(url)\n",
    "    df = pd.DataFrame(df[0])\n",
    "    df['Label'].replace({\"!!\":\" \", \":\":\"\"}, regex=True, inplace=True)\n",
    "    return df"
   ]
  },
  {
   "cell_type": "code",
   "execution_count": null,
   "id": "af6035f7",
   "metadata": {},
   "outputs": [],
   "source": [
    "def calculate_percents(df, denominator, numerators):\n",
    "    df[denominator] = df[denominator].astype(float)\n",
    "    for i in numerators:\n",
    "        df[i] = df[i].astype(float)\n",
    "        newname = f'{i}_P'\n",
    "        df[newname] = df[i] / df[denominator]"
   ]
  },
  {
   "cell_type": "markdown",
   "id": "325e7921",
   "metadata": {},
   "source": [
    "Define parameters of interest. We will look at American Community Survey 2021 5-Year estimates for all census block groups in California."
   ]
  },
  {
   "cell_type": "code",
   "execution_count": null,
   "id": "0bdf211e",
   "metadata": {},
   "outputs": [],
   "source": [
    "year = '2021'\n",
    "dataset = 'acs/acs5'\n",
    "location = 'block%20group:*&in=state:06&in=county:*&in=tract:*'"
   ]
  },
  {
   "cell_type": "markdown",
   "id": "67cf06c3",
   "metadata": {},
   "source": [
    "Get American Community Survey data for selected topics."
   ]
  },
  {
   "cell_type": "code",
   "execution_count": null,
   "id": "e4ab3f01",
   "metadata": {},
   "outputs": [],
   "source": [
    "census_data = get_census_data(year=year,dataset=dataset,variables='GEO_ID',location=location)\n",
    "census_data = json_to_dataframe(census_data)\n",
    "\n",
    "pop = 'B01003_001E'\n",
    "age = 'B01002_001E'\n",
    "sex = 'B01001_001E,B01001_002E,B01001_026E'\n",
    "race = 'B03002_001E,B03002_002E,B03002_003E,B03002_004E,B03002_005E,B03002_006E,B03002_007E,B03002_008E,B03002_009E,B03002_012E'\n",
    "lang = 'B99162_001E,B99162_002E,B99162_003E'\n",
    "inc = 'B19013_001E'\n",
    "pov = 'C17002_001E,C17002_002E,C17002_003E,C17002_004E,C17002_005E,C17002_006E,C17002_007E,C17002_008E'\n",
    "mob = 'B07201_001E,B07201_002E,B07201_003E,B07201_014E'\n",
    "trans = 'B08301_001E,B08301_002E,B08301_010E,B08301_016E,B08301_017E,B08301_018E,B08301_019E,B08301_020E,B08301_021E'\n",
    "hous = 'B25003_001E,B25003_002E,B25003_003E'\n",
    "\n",
    "for i in [pop,age,sex,race,lang,inc,pov,mob,trans,hous]:\n",
    "    i = 'GEO_ID,' + i\n",
    "    temp = get_census_data(year=year,dataset=dataset,variables=i,location=location)\n",
    "    temp = json_to_dataframe(temp)\n",
    "    temp.drop(columns=['state', 'county', 'tract', 'block group'], inplace=True)\n",
    "    census_data = census_data.merge(temp, on='GEO_ID', how='left')\n",
    "\n",
    "census_data.head(3)"
   ]
  },
  {
   "cell_type": "markdown",
   "id": "1914feec",
   "metadata": {},
   "source": [
    "Relabel the columns with more meaningful names."
   ]
  },
  {
   "cell_type": "code",
   "execution_count": null,
   "id": "89824785",
   "metadata": {},
   "outputs": [],
   "source": [
    "dictionary = get_data_dictionary('2021', 'acs/acs5')\n",
    "dictionary.set_index('Name', inplace=True)\n",
    "\n",
    "for i in census_data.columns:\n",
    "    if i in dictionary.index:\n",
    "        temp = dictionary[dictionary.index == i]\n",
    "        newname = temp['Label'].iloc[0]\n",
    "        newname = newname.replace(' ', '_')\n",
    "        census_data = census_data.rename(columns={i:f'{i}_{newname}'})\n",
    "\n",
    "census_data.head(3)"
   ]
  },
  {
   "cell_type": "markdown",
   "id": "170a3116",
   "metadata": {},
   "source": [
    "Convert counts into percentages. Depending on the item, the value of the denominator may be different so it's important to use the correct denominator for each feature."
   ]
  },
  {
   "cell_type": "code",
   "execution_count": null,
   "id": "a551aa67",
   "metadata": {},
   "outputs": [],
   "source": [
    "prefixes = []\n",
    "for i in census_data.columns:\n",
    "    prefix = i[:6]\n",
    "    if prefix not in prefixes and prefix not in ['GEO_ID', 'state', 'county', 'tract', 'block ']:\n",
    "        prefixes = prefixes + [prefix]\n",
    "        \n",
    "for i in prefixes:\n",
    "    denominator = f'{i}_001E_Estimate_Total'\n",
    "    numerators = [col for col in census_data if col.startswith(i)]\n",
    "    if denominator in numerators:\n",
    "        numerators.remove(denominator)\n",
    "    if denominator in census_data.columns and len(numerators) >= 1:\n",
    "        calculate_percents(df=census_data, denominator=denominator, numerators=numerators)\n",
    "\n",
    "census_data.head(3)"
   ]
  },
  {
   "cell_type": "markdown",
   "id": "dfc255ba",
   "metadata": {},
   "source": [
    "Save the data."
   ]
  },
  {
   "cell_type": "code",
   "execution_count": null,
   "id": "cec861bb",
   "metadata": {},
   "outputs": [],
   "source": [
    "census_data.to_csv('census_data.csv')"
   ]
  },
  {
   "cell_type": "markdown",
   "id": "a7b95a0b",
   "metadata": {},
   "source": [
    "### Useful Resources"
   ]
  },
  {
   "cell_type": "markdown",
   "id": "8d5d1f1d",
   "metadata": {},
   "source": [
    "https://www.census.gov/data/developers/data-sets.html\n",
    "\n",
    "https://www.census.gov/library/video/2020/using-api-all-results-for-acs-table.html\n",
    "\n",
    "https://www.youtube.com/watch?v=l47HptzM7ao\n",
    "\n",
    "https://medium.com/@mcmanus_data_works/using-the-u-s-census-bureau-api-with-python-5c30ad34dbd7\n",
    "\n",
    "https://www.youtube.com/watch?v=LW-M_UC0VTE"
   ]
  }
 ],
 "metadata": {
  "kernelspec": {
   "display_name": "Python 3 (ipykernel)",
   "language": "python",
   "name": "python3"
  },
  "language_info": {
   "codemirror_mode": {
    "name": "ipython",
    "version": 3
   },
   "file_extension": ".py",
   "mimetype": "text/x-python",
   "name": "python",
   "nbconvert_exporter": "python",
   "pygments_lexer": "ipython3",
   "version": "3.9.13"
  }
 },
 "nbformat": 4,
 "nbformat_minor": 5
}
